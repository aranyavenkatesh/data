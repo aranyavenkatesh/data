{
 "cells": [
  {
   "cell_type": "code",
   "execution_count": 1,
   "metadata": {},
   "outputs": [],
   "source": [
    "import pandas as pd\n",
    "import sqlite3\n",
    "import numpy as np\n",
    "import os\n",
    "import shutil"
   ]
  },
  {
   "cell_type": "code",
   "execution_count": 2,
   "metadata": {},
   "outputs": [],
   "source": [
    "#read specific table and return dataframe\n",
    "def read_db_table(table_n, connection):\n",
    "    df = pd.read_sql_query(\"SELECT * FROM \" + table_n, connection)\n",
    "    return df"
   ]
  },
  {
   "cell_type": "code",
   "execution_count": 3,
   "metadata": {},
   "outputs": [],
   "source": [
    "#run query\n",
    "def run_query(query, outputdB):\n",
    "    conn = sqlite3.connect(outputdB)\n",
    "    c = conn.cursor()\n",
    "    c.execute(query)\n",
    "    conn.commit()\n",
    "    conn.close()"
   ]
  },
  {
   "cell_type": "code",
   "execution_count": 4,
   "metadata": {},
   "outputs": [],
   "source": [
    "def write_sql(df_table, sqlite_table, outputdB):\n",
    "#code snippets from https://github.com/EnergyModels/temoatools/tree/master/temoatools\n",
    "\n",
    "    df_table = pd.DataFrame(df_table)\n",
    "    \n",
    "    # Set-up sqlite connection\n",
    "    conn = sqlite3.connect(outputdB)\n",
    "    c = conn.cursor()\n",
    "\n",
    "    #----------\n",
    "    # sqlite file prep\n",
    "    #----------\n",
    "\n",
    "    # Create SQL command based on number of entries\n",
    "    command = 'INSERT INTO ' + sqlite_table + ' VALUES (?'\n",
    "    for i in range(len(df_table.columns)-1):\n",
    "        command = command + ',?'\n",
    "    command = command + ')'\n",
    "\n",
    "    # Execute SQL command\n",
    "    try:\n",
    "        c.executemany(command,np.array(df_table))\n",
    "    except:\n",
    "        print(command)\n",
    "        print(np.array(df_table))\n",
    "        c.executemany(command, np.array(df_table))\n",
    "\n",
    "    #----------\n",
    "    # Save(commit) the changes, and close sqlite file\n",
    "    #----------\n",
    "    conn.commit()\n",
    "    conn.close()"
   ]
  },
  {
   "cell_type": "code",
   "execution_count": 5,
   "metadata": {},
   "outputs": [],
   "source": [
    "# Create New SQL File\n",
    "outputdB = 'US_National.sqlite'\n",
    "outputdBold = 'US_National_region.sqlite'"
   ]
  },
  {
   "cell_type": "code",
   "execution_count": 6,
   "metadata": {},
   "outputs": [],
   "source": [
    "#get all commands from SQL file\n",
    "fd = open(outputdBold.replace('sqlite','sql').replace('db','sql'), 'r')\n",
    "sqlFile = fd.read()\n",
    "fd.close()\n",
    "\n",
    "# all SQL commands (split on ';')\n",
    "sqlCommands_USNational = sqlFile.split(';')"
   ]
  },
  {
   "cell_type": "code",
   "execution_count": 7,
   "metadata": {},
   "outputs": [],
   "source": [
    "#get all commands from SQL file\n",
    "fd = open('../temoa/data_files/temoa_test_system.sql', 'r')\n",
    "sqlFile = fd.read()\n",
    "fd.close()\n",
    "\n",
    "# all SQL commands (split on ';')\n",
    "sqlCommands = sqlFile.split(';')"
   ]
  },
  {
   "cell_type": "code",
   "execution_count": 8,
   "metadata": {},
   "outputs": [
    {
     "name": "stdout",
     "output_type": "stream",
     "text": [
      "59\n"
     ]
    }
   ],
   "source": [
    "list_tables = []\n",
    "#filter CREATE TABLE commands\n",
    "iterval = 0\n",
    "for command in sqlCommands_USNational:\n",
    "    if 'CREATE TABLE' in command:\n",
    "        table_name = command.split('CREATE TABLE ')[1].split(' ')[0]\n",
    "        list_tables.append(table_name.replace(\"'\",'').replace('\"','').replace('`',''))\n",
    "        iterval+=1\n",
    "print(iterval)"
   ]
  },
  {
   "cell_type": "code",
   "execution_count": 9,
   "metadata": {},
   "outputs": [
    {
     "name": "stdout",
     "output_type": "stream",
     "text": [
      "tech_exchange\n",
      "MyopicBaseyear\n"
     ]
    }
   ],
   "source": [
    "#filter CREATE TABLE commands\n",
    "iterval = 0\n",
    "create_sqlCommands=[]\n",
    "list_tables_testfile = []\n",
    "for command in sqlCommands:\n",
    "    if 'CREATE TABLE' in command:\n",
    "        table_name = command.split('CREATE TABLE ')[1].split(' ')[0]\n",
    "        table_name = table_name.replace(\"'\",'').replace('\"','').replace('`','')\n",
    "        if table_name not in list_tables: \n",
    "            print(table_name)\n",
    "        list_tables_testfile.append(table_name)\n",
    "        create_sqlCommands.append(command)\n",
    "        iterval+=1"
   ]
  },
  {
   "cell_type": "code",
   "execution_count": 10,
   "metadata": {},
   "outputs": [
    {
     "data": {
      "text/plain": [
       "['time_renewable',\n",
       " 'tech_renewable',\n",
       " 'tech_nonrenewable',\n",
       " 'tech_groups',\n",
       " 'StorageInit',\n",
       " 'RPS_standards']"
      ]
     },
     "execution_count": 10,
     "metadata": {},
     "output_type": "execute_result"
    }
   ],
   "source": [
    "tables_not_in_test = []\n",
    "for table in list_tables:\n",
    "    if table not in list_tables_testfile:\n",
    "        tables_not_in_test.append(table)\n",
    "tables_not_in_test"
   ]
  },
  {
   "cell_type": "code",
   "execution_count": 11,
   "metadata": {},
   "outputs": [],
   "source": [
    "tables_not_in_test\n",
    "#create_sqlCommands.append(command)\n",
    "for command in sqlCommands_USNational:\n",
    "    if 'CREATE TABLE' in command:\n",
    "        table_name = command.split('CREATE TABLE ')[1].split(' ')[0]\n",
    "        table_name = table_name.replace(\"'\",'').replace('\"','').replace('`','')\n",
    "        if table_name=='tech_curtailment':\n",
    "            command = command.replace('technologies','tech')\n",
    "        if (table_name in tables_not_in_test) :\n",
    "            if 'StorageInit' in command:\n",
    "                command = command.replace('\"storage_tech\"', '\"regions\" TEXT, \"storage_tech\"' ).replace('PRIMARY KEY(\"regions\" TEXT,', 'PRIMARY KEY(')\n",
    "            create_sqlCommands.append(command)"
   ]
  },
  {
   "cell_type": "code",
   "execution_count": 12,
   "metadata": {},
   "outputs": [],
   "source": [
    "#write to new SQL file\n",
    "fd = open(outputdB.replace('sqlite','sql'), 'w')\n",
    "sqlFile = fd.write(\";\\n\".join(create_sqlCommands))\n",
    "fd.close()"
   ]
  },
  {
   "cell_type": "code",
   "execution_count": 13,
   "metadata": {},
   "outputs": [
    {
     "data": {
      "text/plain": [
       "0"
      ]
     },
     "execution_count": 13,
     "metadata": {},
     "output_type": "execute_result"
    }
   ],
   "source": [
    "if os.path.isfile(outputdB):\n",
    "    os.remove(outputdB)\n",
    "os.system(\"sqlite3 \" + outputdB + \" < \" + outputdB.replace('ite',''))\n",
    "\n",
    "#if os.path.isfile(outputdBold):\n",
    "#    os.remove(outputdBold)\n",
    "#os.system(\"sqlite3 \" + outputdBold + \" < \" + outputdBold.replace('db',''))"
   ]
  },
  {
   "cell_type": "code",
   "execution_count": 14,
   "metadata": {},
   "outputs": [],
   "source": [
    "dict_tables_cols = dict()\n",
    "dict_tables_cols['CapacityCredit'] = 'tech'\n",
    "dict_tables_cols['LifetimeProcess'] = 'tech'\n",
    "dict_tables_cols['DiscountRate'] = 'tech'\n",
    "dict_tables_cols['PlanningReserveMargin'] = 'reserve_margin'\n",
    "dict_tables_cols['StorageInit'] = 'storage_tech'\n",
    "dict_tables_cols['Efficiency'] = 'efficiency'\n",
    "dict_tables_cols['CapacityToActivity'] = 'c2a'\n",
    "dict_tables_cols['CapacityFactorTech'] = 'cf_tech'\n",
    "dict_tables_cols['CostInvest'] = 'cost_invest'\n",
    "dict_tables_cols['CostFixed'] = 'cost_fixed'\n",
    "dict_tables_cols['CostVariable'] = 'cost_variable'\n",
    "dict_tables_cols['Demand'] = 'demand'\n",
    "dict_tables_cols['DemandSpecificDistribution'] = 'dds'\n",
    "dict_tables_cols['EmissionActivity'] = 'emis_act'\n",
    "dict_tables_cols['ExistingCapacity'] = 'exist_cap'\n",
    "dict_tables_cols['LifetimeLoanTech'] = 'loan'\n",
    "dict_tables_cols['LifetimeTech'] = 'life'\n",
    "dict_tables_cols['MinActivity'] = 'minact'\n",
    "dict_tables_cols['MinCapacity'] = 'mincap'\n",
    "dict_tables_cols['MaxActivity'] = 'maxact'\n",
    "dict_tables_cols['MaxCapacity'] = 'maxcap'\n",
    "dict_tables_cols['GrowthRateMax'] = 'growthrate_max'\n",
    "dict_tables_cols['GrowthRateSeed'] = 'growthrate_seed'\n",
    "dict_tables_cols['StorageDuration'] = 'duration'\n",
    "dict_tables_cols['TechInputSplit'] = 'ti_split'\n",
    "dict_tables_cols['TechOutputSplit'] = 'to_split'\n",
    "#dict_tables_cols['MinGenGroupWeight'] = 'act_fraction'\n",
    "#dict_tables_cols['MinGenGroupTarget'] = 'min_act_g'\n",
    "dict_tables_cols['groups'] = 'group_name'\n",
    "\n",
    "\n",
    "dict_tables_cols['technologies'] = 'tech_category'\n",
    "\n",
    "dict_tables_cols['GlobalDiscountRate'] = 'rate'\n",
    "dict_tables_cols['SegFrac'] = 'segfrac'\n",
    "dict_tables_cols['EmissionLimit'] = 'emis_limit'\n",
    "dict_tables_cols['commodities'] = 'commodities'\n",
    "dict_tables_cols['commodity_labels'] = 'comm_label_desc'\n",
    "dict_tables_cols['sector_labels'] = 'sector_labels'\n",
    "dict_tables_cols['tech_curtailment'] = 'tech_curtailment'\n",
    "dict_tables_cols['technology_labels'] = 'tech_labels'\n",
    "dict_tables_cols['time_of_day'] = 't_day'\n",
    "dict_tables_cols['time_period_labels'] = 't_period_labels'\n",
    "dict_tables_cols['time_periods'] = 't_periods'\n",
    "dict_tables_cols['time_season'] = 't_season'\n",
    "dict_tables_cols['tech_renewable'] = 'tech'\n",
    "dict_tables_cols['tech_nonrenewable'] = 'tech'\n",
    "dict_tables_cols['tech_groups'] = 'tech'\n",
    "dict_tables_cols['tech_annual'] = 'tech'\n",
    "dict_tables_cols['tech_reserve'] = 'tech'\n",
    "\n",
    "#dict_tables_cols['regions'] = 'regions'\n",
    "\n",
    "for key, value in dict_tables_cols.items():\n",
    "    col_changed = value\n",
    "    table_name = key\n",
    "    \n",
    "    conn = sqlite3.connect(outputdBold)\n",
    "    df = read_db_table(table_name, conn)\n",
    "    conn.close()\n",
    "    \n",
    "    conn = sqlite3.connect(outputdB)\n",
    "    df_new = read_db_table(table_name, conn)\n",
    "    conn.close()\n",
    "    \n",
    "    if value in ['rate', 'segfrac','commodities', 'comm_label_desc', 'sector_labels', 'tech_annual', 'tech_renewable',\n",
    "                 'tech_curtailment', 'tech_labels', 't_day', 't_period_labels', 't_periods', 't_season' , 'tech_nonrenewable',\n",
    "                 'tech_groups']:\n",
    "        df_o = df.copy()\n",
    "    else:\n",
    "        df_o = df.copy()\n",
    "        if table_name=='technologies':\n",
    "            df_o.loc[:,'tech_category']  = ''\n",
    "        if (table_name=='tech_annual') & ('notes' not in df.columns):\n",
    "            df_o.loc[:,'notes']  = ''\n",
    "        if len(df_o)==0:\n",
    "            df_o = df_new.copy()\n",
    "        else:\n",
    "            df_o.loc[:,'regions'] = 'US'\n",
    "            df_o = df_o[df_new.columns]\n",
    "        \n",
    "    write_sql(df_o,table_name, outputdB)"
   ]
  },
  {
   "cell_type": "code",
   "execution_count": 15,
   "metadata": {},
   "outputs": [],
   "source": [
    "table_name = 'regions'\n",
    "conn = sqlite3.connect(outputdB)\n",
    "df_new = read_db_table(table_name, conn)\n",
    "conn.close()\n",
    "write_sql(df_new.append({'regions': 'US', 'region_note':''}, ignore_index=True),table_name, outputdB)"
   ]
  },
  {
   "cell_type": "code",
   "execution_count": 16,
   "metadata": {},
   "outputs": [],
   "source": [
    "conn = sqlite3.connect(outputdB)\n",
    "with open(outputdB.replace('ite',''), 'w') as f:\n",
    "    for line in conn.iterdump():\n",
    "        if 'e+' in line or 'e-0' in line:\n",
    "            val = [x for x in line.split(',') if 'e+' in x or 'e-0' in x][0]\n",
    "            ls = line.split(',')\n",
    "            ind = ls.index(val)\n",
    "            ls[ind] = [str(round(float(x),2)) for x in line.split(',') if 'e+' in x or 'e-0' in x ][0]\n",
    "            line = ','.join(ls)\n",
    "        if 'CREATE TABLE' in line:\n",
    "            f.write('\\n' )\n",
    "        f.write('%s\\n' % line)\n",
    "        \n",
    "conn.close()"
   ]
  }
 ],
 "metadata": {
  "kernelspec": {
   "display_name": "Python 3",
   "language": "python",
   "name": "python3"
  },
  "language_info": {
   "codemirror_mode": {
    "name": "ipython",
    "version": 3
   },
   "file_extension": ".py",
   "mimetype": "text/x-python",
   "name": "python",
   "nbconvert_exporter": "python",
   "pygments_lexer": "ipython3",
   "version": "3.7.6"
  }
 },
 "nbformat": 4,
 "nbformat_minor": 4
}
